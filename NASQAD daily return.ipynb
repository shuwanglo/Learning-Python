{
 "cells": [
  {
   "cell_type": "code",
   "execution_count": 3,
   "metadata": {},
   "outputs": [
    {
     "name": "stdout",
     "output_type": "stream",
     "text": [
      "Microsoft Windows [Version 10.0.15063]\r\n",
      "(c) 2017 Microsoft Corporation. All rights reserved.\r\n",
      "\r\n",
      "(C:\\Users\\shuwanglo\\Anaconda3) C:\\Users\\shuwanglo>pip install pandas_datareader\n",
      "Collecting pandas_datareader\r\n",
      "  Downloading pandas_datareader-0.5.0-py2.py3-none-any.whl (74kB)\r\n",
      "Requirement already satisfied: requests>=2.3.0 in c:\\users\\shuwanglo\\anaconda3\\lib\\site-packages (from pandas_datareader)\r\n",
      "Collecting requests-file (from pandas_datareader)\r\n",
      "  Downloading requests-file-1.4.2.tar.gz\r\n",
      "Collecting requests-ftp (from pandas_datareader)\r\n",
      "  Downloading requests-ftp-0.3.1.tar.gz\r\n",
      "Requirement already satisfied: pandas>=0.17.0 in c:\\users\\shuwanglo\\anaconda3\\lib\\site-packages (from pandas_datareader)\r\n",
      "Requirement already satisfied: six in c:\\users\\shuwanglo\\anaconda3\\lib\\site-packages (from requests-file->pandas_datareader)\r\n",
      "Requirement already satisfied: python-dateutil>=2 in c:\\users\\shuwanglo\\anaconda3\\lib\\site-packages (from pandas>=0.17.0->pandas_datareader)\r\n",
      "Requirement already satisfied: pytz>=2011k in c:\\users\\shuwanglo\\anaconda3\\lib\\site-packages (from pandas>=0.17.0->pandas_datareader)\r\n",
      "Requirement already satisfied: numpy>=1.7.0 in c:\\users\\shuwanglo\\anaconda3\\lib\\site-packages (from pandas>=0.17.0->pandas_datareader)\r\n",
      "Building wheels for collected packages: requests-file, requests-ftp\r\n",
      "  Running setup.py bdist_wheel for requests-file: started\r\n",
      "  Running setup.py bdist_wheel for requests-file: finished with status 'done'\r\n",
      "  Stored in directory: C:\\Users\\shuwanglo\\AppData\\Local\\pip\\Cache\\wheels\\3e\\34\\3a\\c2e634ca7b545510c1b3b7d94dea084e5fdb5f33558f3c3a81\r\n",
      "  Running setup.py bdist_wheel for requests-ftp: started\r\n",
      "  Running setup.py bdist_wheel for requests-ftp: finished with status 'done'\r\n",
      "  Stored in directory: C:\\Users\\shuwanglo\\AppData\\Local\\pip\\Cache\\wheels\\76\\fb\\0d\\1026eb562c34a4982dc9d39c9c582a734eefe7f0455f711deb\r\n",
      "Successfully built requests-file requests-ftp\r\n",
      "Installing collected packages: requests-file, requests-ftp, pandas-datareader\r\n",
      "Successfully installed pandas-datareader-0.5.0 requests-file-1.4.2 requests-ftp-0.3.1\r\n",
      "\r\n",
      "(C:\\Users\\shuwanglo\\Anaconda3) C:\\Users\\shuwanglo>import matplotlib.pyplot as plt\n",
      "\r\n",
      "(C:\\Users\\shuwanglo\\Anaconda3) C:\\Users\\shuwanglo>import pandas_datareader.data as web\n",
      "\r\n",
      "(C:\\Users\\shuwanglo\\Anaconda3) C:\\Users\\shuwanglo>import datetime\n",
      "\r\n",
      "(C:\\Users\\shuwanglo\\Anaconda3) C:\\Users\\shuwanglo>import numpy as np\n",
      "\r\n",
      "(C:\\Users\\shuwanglo\\Anaconda3) C:\\Users\\shuwanglo>"
     ]
    },
    {
     "name": "stderr",
     "output_type": "stream",
     "text": [
      "'import' is not recognized as an internal or external command,\r\n",
      "operable program or batch file.\r\n",
      "'import' is not recognized as an internal or external command,\r\n",
      "operable program or batch file.\r\n",
      "'import' is not recognized as an internal or external command,\r\n",
      "operable program or batch file.\r\n",
      "'import' is not recognized as an internal or external command,\r\n",
      "operable program or batch file.\r\n"
     ]
    }
   ],
   "source": [
    "%%cmd\n",
    "pip install pandas_datareader\n",
    "import matplotlib.pyplot as plt\n",
    "import pandas_datareader.data as web\n",
    "import datetime\n",
    "import numpy as np"
   ]
  },
  {
   "cell_type": "code",
   "execution_count": 6,
   "metadata": {},
   "outputs": [],
   "source": [
    "import datetime \n",
    "start = datetime.datetime(2010,1,1)\n",
    "end = datetime.datetime.today()"
   ]
  },
  {
   "cell_type": "code",
   "execution_count": 10,
   "metadata": {},
   "outputs": [
    {
     "data": {
      "text/html": [
       "<div>\n",
       "<style>\n",
       "    .dataframe thead tr:only-child th {\n",
       "        text-align: right;\n",
       "    }\n",
       "\n",
       "    .dataframe thead th {\n",
       "        text-align: left;\n",
       "    }\n",
       "\n",
       "    .dataframe tbody tr th {\n",
       "        vertical-align: top;\n",
       "    }\n",
       "</style>\n",
       "<table border=\"1\" class=\"dataframe\">\n",
       "  <thead>\n",
       "    <tr style=\"text-align: right;\">\n",
       "      <th></th>\n",
       "      <th>Open</th>\n",
       "      <th>High</th>\n",
       "      <th>Low</th>\n",
       "      <th>Close</th>\n",
       "      <th>Adj Close</th>\n",
       "      <th>Volume</th>\n",
       "    </tr>\n",
       "    <tr>\n",
       "      <th>Date</th>\n",
       "      <th></th>\n",
       "      <th></th>\n",
       "      <th></th>\n",
       "      <th></th>\n",
       "      <th></th>\n",
       "      <th></th>\n",
       "    </tr>\n",
       "  </thead>\n",
       "  <tbody>\n",
       "    <tr>\n",
       "      <th>2017-09-29</th>\n",
       "      <td>2509.959961</td>\n",
       "      <td>2519.439941</td>\n",
       "      <td>2507.98999</td>\n",
       "      <td>2519.360107</td>\n",
       "      <td>2519.360107</td>\n",
       "      <td>1809911727</td>\n",
       "    </tr>\n",
       "  </tbody>\n",
       "</table>\n",
       "</div>"
      ],
      "text/plain": [
       "                   Open         High         Low        Close    Adj Close  \\\n",
       "Date                                                                         \n",
       "2017-09-29  2509.959961  2519.439941  2507.98999  2519.360107  2519.360107   \n",
       "\n",
       "                Volume  \n",
       "Date                    \n",
       "2017-09-29  1809911727  "
      ]
     },
     "execution_count": 10,
     "metadata": {},
     "output_type": "execute_result"
    }
   ],
   "source": [
    "import pandas_datareader.data as web\n",
    "spx = web.DataReader(\"^spx\", 'yahoo', start, end)\n",
    "spx.tail(5)"
   ]
  },
  {
   "cell_type": "code",
   "execution_count": 4,
   "metadata": {
    "collapsed": true
   },
   "outputs": [],
   "source": [
    "nasdaq_close = nasdaq['Adj Close']\n",
    "nasdaq_returns = np.log(nasdaq_close / nasdaq_close.shift(1)).dropna()"
   ]
  },
  {
   "cell_type": "code",
   "execution_count": 5,
   "metadata": {},
   "outputs": [
    {
     "name": "stdout",
     "output_type": "stream",
     "text": [
      "NASQAD mean : 0.0005308450949410455\n"
     ]
    }
   ],
   "source": [
    "print('NASQAD mean :', nasdaq_returns.mean())"
   ]
  },
  {
   "cell_type": "code",
   "execution_count": 6,
   "metadata": {},
   "outputs": [
    {
     "name": "stdout",
     "output_type": "stream",
     "text": [
      "NASQAD standard deviation : 0.010646556660321944\n"
     ]
    }
   ],
   "source": [
    "print('NASQAD standard deviation :', nasdaq_returns.std())"
   ]
  },
  {
   "cell_type": "code",
   "execution_count": 8,
   "metadata": {},
   "outputs": [
    {
     "data": {
      "image/png": "[encoded data removed]",
      "text/plain": [
       "<matplotlib.figure.Figure at 0x17f472947f0>"
      ]
     },
     "metadata": {},
     "output_type": "display_data"
    }
   ],
   "source": [
    "plt.figure(figsize= (12,6))\n",
    "plt.hist(nasdaq_returns, bins=100, color='BLUE')\n",
    "plt.title('Histogram of NASQAD Daily Returns Since 2010', fontsize=20)\n",
    "plt.ylabel('%', fontsize=18)\n",
    "plt.show()"
   ]
  },
  {
   "cell_type": "code",
   "execution_count": null,
   "metadata": {
    "collapsed": true
   },
   "outputs": [],
   "source": []
  }
 ],
 "metadata": {
  "kernelspec": {
   "display_name": "Python 3",
   "language": "python",
   "name": "python3"
  },
  "language_info": {
   "codemirror_mode": {
    "name": "ipython",
    "version": 3
   },
   "file_extension": ".py",
   "mimetype": "text/x-python",
   "name": "python",
   "nbconvert_exporter": "python",
   "pygments_lexer": "ipython3",
   "version": "3.6.1"
  }
 },
 "nbformat": 4,
 "nbformat_minor": 2
}
